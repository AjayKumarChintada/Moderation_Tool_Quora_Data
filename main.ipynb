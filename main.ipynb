{
 "cells": [
  {
   "cell_type": "code",
   "execution_count": 4,
   "metadata": {},
   "outputs": [
    {
     "data": {
      "text/html": [
       "<div>\n",
       "<style scoped>\n",
       "    .dataframe tbody tr th:only-of-type {\n",
       "        vertical-align: middle;\n",
       "    }\n",
       "\n",
       "    .dataframe tbody tr th {\n",
       "        vertical-align: top;\n",
       "    }\n",
       "\n",
       "    .dataframe thead th {\n",
       "        text-align: right;\n",
       "    }\n",
       "</style>\n",
       "<table border=\"1\" class=\"dataframe\">\n",
       "  <thead>\n",
       "    <tr style=\"text-align: right;\">\n",
       "      <th></th>\n",
       "      <th>question</th>\n",
       "      <th>link</th>\n",
       "      <th>images</th>\n",
       "      <th>answer</th>\n",
       "      <th>username</th>\n",
       "      <th>userlink</th>\n",
       "    </tr>\n",
       "  </thead>\n",
       "  <tbody>\n",
       "    <tr>\n",
       "      <th>0</th>\n",
       "      <td>RelatedWhat are some famous places in Vrindavan?</td>\n",
       "      <td>https://www.quora.com/What-are-some-famous-pla...</td>\n",
       "      <td>NaN</td>\n",
       "      <td>I’d suggest you don’t go to Vrindavan as a tou...</td>\n",
       "      <td>Radhika Sachdeva</td>\n",
       "      <td>https://www.quora.com/profile/Radhika-Sachdeva-2</td>\n",
       "    </tr>\n",
       "    <tr>\n",
       "      <th>1</th>\n",
       "      <td>RelatedWho should read Bhagavad Gita?</td>\n",
       "      <td>https://www.quora.com/Who-should-read-Bhagavad...</td>\n",
       "      <td>NaN</td>\n",
       "      <td>Following people are necessarily should read b...</td>\n",
       "      <td>Subramanian Velusamy</td>\n",
       "      <td>https://www.quora.com/profile/Subramanian-Velu...</td>\n",
       "    </tr>\n",
       "    <tr>\n",
       "      <th>2</th>\n",
       "      <td>RelatedWho built the \"Ranakdevi Temple\"?</td>\n",
       "      <td>https://www.quora.com/Who-built-the-Ranakdevi-...</td>\n",
       "      <td>https://qsf.cf2.quoracdn.net/-4-images.new_gri...</td>\n",
       "      <td>Ranakdevi Temple belonging to the tenth centur...</td>\n",
       "      <td>Rudra</td>\n",
       "      <td>https://www.quora.com/profile/Rudra-419</td>\n",
       "    </tr>\n",
       "    <tr>\n",
       "      <th>3</th>\n",
       "      <td>If the universe was created by Shiv and Shakti...</td>\n",
       "      <td>https://www.quora.com/If-the-universe-was-crea...</td>\n",
       "      <td>https://qph.cf2.quoracdn.net/main-qimg-262dc8a...</td>\n",
       "      <td>A movie consist of three things.A preferably w...</td>\n",
       "      <td>Rami Sivan</td>\n",
       "      <td>https://www.quora.com/profile/Rami-Sivan</td>\n",
       "    </tr>\n",
       "    <tr>\n",
       "      <th>4</th>\n",
       "      <td>RelatedIf salvation/Moksha attainment of God i...</td>\n",
       "      <td>https://www.quora.com/If-salvation-Moksha-atta...</td>\n",
       "      <td>NaN</td>\n",
       "      <td>From ramayan only shabri and Raven got salvati...</td>\n",
       "      <td>Paradox</td>\n",
       "      <td>https://www.quora.com/profile/Paradox-478</td>\n",
       "    </tr>\n",
       "  </tbody>\n",
       "</table>\n",
       "</div>"
      ],
      "text/plain": [
       "                                            question  \\\n",
       "0   RelatedWhat are some famous places in Vrindavan?   \n",
       "1              RelatedWho should read Bhagavad Gita?   \n",
       "2           RelatedWho built the \"Ranakdevi Temple\"?   \n",
       "3  If the universe was created by Shiv and Shakti...   \n",
       "4  RelatedIf salvation/Moksha attainment of God i...   \n",
       "\n",
       "                                                link  \\\n",
       "0  https://www.quora.com/What-are-some-famous-pla...   \n",
       "1  https://www.quora.com/Who-should-read-Bhagavad...   \n",
       "2  https://www.quora.com/Who-built-the-Ranakdevi-...   \n",
       "3  https://www.quora.com/If-the-universe-was-crea...   \n",
       "4  https://www.quora.com/If-salvation-Moksha-atta...   \n",
       "\n",
       "                                              images  \\\n",
       "0                                                NaN   \n",
       "1                                                NaN   \n",
       "2  https://qsf.cf2.quoracdn.net/-4-images.new_gri...   \n",
       "3  https://qph.cf2.quoracdn.net/main-qimg-262dc8a...   \n",
       "4                                                NaN   \n",
       "\n",
       "                                              answer              username  \\\n",
       "0  I’d suggest you don’t go to Vrindavan as a tou...      Radhika Sachdeva   \n",
       "1  Following people are necessarily should read b...  Subramanian Velusamy   \n",
       "2  Ranakdevi Temple belonging to the tenth centur...                 Rudra   \n",
       "3  A movie consist of three things.A preferably w...            Rami Sivan   \n",
       "4  From ramayan only shabri and Raven got salvati...               Paradox   \n",
       "\n",
       "                                            userlink  \n",
       "0   https://www.quora.com/profile/Radhika-Sachdeva-2  \n",
       "1  https://www.quora.com/profile/Subramanian-Velu...  \n",
       "2            https://www.quora.com/profile/Rudra-419  \n",
       "3           https://www.quora.com/profile/Rami-Sivan  \n",
       "4          https://www.quora.com/profile/Paradox-478  "
      ]
     },
     "execution_count": 4,
     "metadata": {},
     "output_type": "execute_result"
    }
   ],
   "source": [
    "import pandas as pd\n",
    "\n",
    "filename = \"data.csv\"\n",
    "\n",
    "\n",
    "try:\n",
    "    df = pd.read_csv(filename)\n",
    "except pd.errors.ParserError as e:\n",
    "    # If a ParserError occurs, print the error message and skip the line\n",
    "    print(f\"ParserError: {e}\")\n",
    "    line_number = int(str(e).split(\" \")[-1])  # Extract the line number from the error message\n",
    "    df = pd.read_csv(filename, error_bad_lines=False, skiprows=line_number)\n",
    "\n",
    "df.columns = ['question','link','images','answer','username','userlink']\n",
    "df.head(5)\n",
    "\n",
    "\n",
    "# Continue with your data processing code here, using the `df` DataFrame\n",
    "\n"
   ]
  },
  {
   "cell_type": "code",
   "execution_count": 5,
   "metadata": {},
   "outputs": [
    {
     "data": {
      "text/plain": [
       "(1000, 6)"
      ]
     },
     "execution_count": 5,
     "metadata": {},
     "output_type": "execute_result"
    }
   ],
   "source": [
    "df.shape"
   ]
  },
  {
   "cell_type": "code",
   "execution_count": 8,
   "metadata": {},
   "outputs": [],
   "source": [
    "df['question'] = df.question.apply(lambda x: x.replace('Related','' if x.startswith('Related') else x))"
   ]
  },
  {
   "cell_type": "code",
   "execution_count": 9,
   "metadata": {},
   "outputs": [
    {
     "data": {
      "text/html": [
       "<div>\n",
       "<style scoped>\n",
       "    .dataframe tbody tr th:only-of-type {\n",
       "        vertical-align: middle;\n",
       "    }\n",
       "\n",
       "    .dataframe tbody tr th {\n",
       "        vertical-align: top;\n",
       "    }\n",
       "\n",
       "    .dataframe thead th {\n",
       "        text-align: right;\n",
       "    }\n",
       "</style>\n",
       "<table border=\"1\" class=\"dataframe\">\n",
       "  <thead>\n",
       "    <tr style=\"text-align: right;\">\n",
       "      <th></th>\n",
       "      <th>question</th>\n",
       "      <th>link</th>\n",
       "      <th>images</th>\n",
       "      <th>answer</th>\n",
       "      <th>username</th>\n",
       "      <th>userlink</th>\n",
       "    </tr>\n",
       "  </thead>\n",
       "  <tbody>\n",
       "    <tr>\n",
       "      <th>0</th>\n",
       "      <td>What are some famous places in Vrindavan?</td>\n",
       "      <td>https://www.quora.com/What-are-some-famous-pla...</td>\n",
       "      <td>NaN</td>\n",
       "      <td>I’d suggest you don’t go to Vrindavan as a tou...</td>\n",
       "      <td>Radhika Sachdeva</td>\n",
       "      <td>https://www.quora.com/profile/Radhika-Sachdeva-2</td>\n",
       "    </tr>\n",
       "    <tr>\n",
       "      <th>1</th>\n",
       "      <td>Who should read Bhagavad Gita?</td>\n",
       "      <td>https://www.quora.com/Who-should-read-Bhagavad...</td>\n",
       "      <td>NaN</td>\n",
       "      <td>Following people are necessarily should read b...</td>\n",
       "      <td>Subramanian Velusamy</td>\n",
       "      <td>https://www.quora.com/profile/Subramanian-Velu...</td>\n",
       "    </tr>\n",
       "    <tr>\n",
       "      <th>2</th>\n",
       "      <td>Who built the \"Ranakdevi Temple\"?</td>\n",
       "      <td>https://www.quora.com/Who-built-the-Ranakdevi-...</td>\n",
       "      <td>https://qsf.cf2.quoracdn.net/-4-images.new_gri...</td>\n",
       "      <td>Ranakdevi Temple belonging to the tenth centur...</td>\n",
       "      <td>Rudra</td>\n",
       "      <td>https://www.quora.com/profile/Rudra-419</td>\n",
       "    </tr>\n",
       "    <tr>\n",
       "      <th>3</th>\n",
       "      <td>If the universe was created by Shiv and Shakti...</td>\n",
       "      <td>https://www.quora.com/If-the-universe-was-crea...</td>\n",
       "      <td>https://qph.cf2.quoracdn.net/main-qimg-262dc8a...</td>\n",
       "      <td>A movie consist of three things.A preferably w...</td>\n",
       "      <td>Rami Sivan</td>\n",
       "      <td>https://www.quora.com/profile/Rami-Sivan</td>\n",
       "    </tr>\n",
       "    <tr>\n",
       "      <th>4</th>\n",
       "      <td>If salvation/Moksha attainment of God is the u...</td>\n",
       "      <td>https://www.quora.com/If-salvation-Moksha-atta...</td>\n",
       "      <td>NaN</td>\n",
       "      <td>From ramayan only shabri and Raven got salvati...</td>\n",
       "      <td>Paradox</td>\n",
       "      <td>https://www.quora.com/profile/Paradox-478</td>\n",
       "    </tr>\n",
       "  </tbody>\n",
       "</table>\n",
       "</div>"
      ],
      "text/plain": [
       "                                            question  \\\n",
       "0          What are some famous places in Vrindavan?   \n",
       "1                     Who should read Bhagavad Gita?   \n",
       "2                  Who built the \"Ranakdevi Temple\"?   \n",
       "3  If the universe was created by Shiv and Shakti...   \n",
       "4  If salvation/Moksha attainment of God is the u...   \n",
       "\n",
       "                                                link  \\\n",
       "0  https://www.quora.com/What-are-some-famous-pla...   \n",
       "1  https://www.quora.com/Who-should-read-Bhagavad...   \n",
       "2  https://www.quora.com/Who-built-the-Ranakdevi-...   \n",
       "3  https://www.quora.com/If-the-universe-was-crea...   \n",
       "4  https://www.quora.com/If-salvation-Moksha-atta...   \n",
       "\n",
       "                                              images  \\\n",
       "0                                                NaN   \n",
       "1                                                NaN   \n",
       "2  https://qsf.cf2.quoracdn.net/-4-images.new_gri...   \n",
       "3  https://qph.cf2.quoracdn.net/main-qimg-262dc8a...   \n",
       "4                                                NaN   \n",
       "\n",
       "                                              answer              username  \\\n",
       "0  I’d suggest you don’t go to Vrindavan as a tou...      Radhika Sachdeva   \n",
       "1  Following people are necessarily should read b...  Subramanian Velusamy   \n",
       "2  Ranakdevi Temple belonging to the tenth centur...                 Rudra   \n",
       "3  A movie consist of three things.A preferably w...            Rami Sivan   \n",
       "4  From ramayan only shabri and Raven got salvati...               Paradox   \n",
       "\n",
       "                                            userlink  \n",
       "0   https://www.quora.com/profile/Radhika-Sachdeva-2  \n",
       "1  https://www.quora.com/profile/Subramanian-Velu...  \n",
       "2            https://www.quora.com/profile/Rudra-419  \n",
       "3           https://www.quora.com/profile/Rami-Sivan  \n",
       "4          https://www.quora.com/profile/Paradox-478  "
      ]
     },
     "execution_count": 9,
     "metadata": {},
     "output_type": "execute_result"
    }
   ],
   "source": [
    "df.head()"
   ]
  },
  {
   "cell_type": "code",
   "execution_count": 10,
   "metadata": {},
   "outputs": [
    {
     "data": {
      "text/plain": [
       "question      0\n",
       "link         35\n",
       "images      497\n",
       "answer       37\n",
       "username     40\n",
       "userlink     40\n",
       "dtype: int64"
      ]
     },
     "execution_count": 10,
     "metadata": {},
     "output_type": "execute_result"
    }
   ],
   "source": [
    "df.isnull().sum()"
   ]
  },
  {
   "cell_type": "code",
   "execution_count": 12,
   "metadata": {},
   "outputs": [],
   "source": [
    "df.drop_duplicates(inplace=True)"
   ]
  },
  {
   "cell_type": "code",
   "execution_count": 13,
   "metadata": {},
   "outputs": [
    {
     "data": {
      "text/html": [
       "<div>\n",
       "<style scoped>\n",
       "    .dataframe tbody tr th:only-of-type {\n",
       "        vertical-align: middle;\n",
       "    }\n",
       "\n",
       "    .dataframe tbody tr th {\n",
       "        vertical-align: top;\n",
       "    }\n",
       "\n",
       "    .dataframe thead th {\n",
       "        text-align: right;\n",
       "    }\n",
       "</style>\n",
       "<table border=\"1\" class=\"dataframe\">\n",
       "  <thead>\n",
       "    <tr style=\"text-align: right;\">\n",
       "      <th></th>\n",
       "      <th>question</th>\n",
       "      <th>link</th>\n",
       "      <th>images</th>\n",
       "      <th>answer</th>\n",
       "      <th>username</th>\n",
       "      <th>userlink</th>\n",
       "    </tr>\n",
       "  </thead>\n",
       "  <tbody>\n",
       "    <tr>\n",
       "      <th>0</th>\n",
       "      <td>What are some famous places in Vrindavan?</td>\n",
       "      <td>https://www.quora.com/What-are-some-famous-pla...</td>\n",
       "      <td>NaN</td>\n",
       "      <td>I’d suggest you don’t go to Vrindavan as a tou...</td>\n",
       "      <td>Radhika Sachdeva</td>\n",
       "      <td>https://www.quora.com/profile/Radhika-Sachdeva-2</td>\n",
       "    </tr>\n",
       "    <tr>\n",
       "      <th>1</th>\n",
       "      <td>Who should read Bhagavad Gita?</td>\n",
       "      <td>https://www.quora.com/Who-should-read-Bhagavad...</td>\n",
       "      <td>NaN</td>\n",
       "      <td>Following people are necessarily should read b...</td>\n",
       "      <td>Subramanian Velusamy</td>\n",
       "      <td>https://www.quora.com/profile/Subramanian-Velu...</td>\n",
       "    </tr>\n",
       "    <tr>\n",
       "      <th>2</th>\n",
       "      <td>Who built the \"Ranakdevi Temple\"?</td>\n",
       "      <td>https://www.quora.com/Who-built-the-Ranakdevi-...</td>\n",
       "      <td>https://qsf.cf2.quoracdn.net/-4-images.new_gri...</td>\n",
       "      <td>Ranakdevi Temple belonging to the tenth centur...</td>\n",
       "      <td>Rudra</td>\n",
       "      <td>https://www.quora.com/profile/Rudra-419</td>\n",
       "    </tr>\n",
       "    <tr>\n",
       "      <th>3</th>\n",
       "      <td>If the universe was created by Shiv and Shakti...</td>\n",
       "      <td>https://www.quora.com/If-the-universe-was-crea...</td>\n",
       "      <td>https://qph.cf2.quoracdn.net/main-qimg-262dc8a...</td>\n",
       "      <td>A movie consist of three things.A preferably w...</td>\n",
       "      <td>Rami Sivan</td>\n",
       "      <td>https://www.quora.com/profile/Rami-Sivan</td>\n",
       "    </tr>\n",
       "    <tr>\n",
       "      <th>4</th>\n",
       "      <td>If salvation/Moksha attainment of God is the u...</td>\n",
       "      <td>https://www.quora.com/If-salvation-Moksha-atta...</td>\n",
       "      <td>NaN</td>\n",
       "      <td>From ramayan only shabri and Raven got salvati...</td>\n",
       "      <td>Paradox</td>\n",
       "      <td>https://www.quora.com/profile/Paradox-478</td>\n",
       "    </tr>\n",
       "  </tbody>\n",
       "</table>\n",
       "</div>"
      ],
      "text/plain": [
       "                                            question  \\\n",
       "0          What are some famous places in Vrindavan?   \n",
       "1                     Who should read Bhagavad Gita?   \n",
       "2                  Who built the \"Ranakdevi Temple\"?   \n",
       "3  If the universe was created by Shiv and Shakti...   \n",
       "4  If salvation/Moksha attainment of God is the u...   \n",
       "\n",
       "                                                link  \\\n",
       "0  https://www.quora.com/What-are-some-famous-pla...   \n",
       "1  https://www.quora.com/Who-should-read-Bhagavad...   \n",
       "2  https://www.quora.com/Who-built-the-Ranakdevi-...   \n",
       "3  https://www.quora.com/If-the-universe-was-crea...   \n",
       "4  https://www.quora.com/If-salvation-Moksha-atta...   \n",
       "\n",
       "                                              images  \\\n",
       "0                                                NaN   \n",
       "1                                                NaN   \n",
       "2  https://qsf.cf2.quoracdn.net/-4-images.new_gri...   \n",
       "3  https://qph.cf2.quoracdn.net/main-qimg-262dc8a...   \n",
       "4                                                NaN   \n",
       "\n",
       "                                              answer              username  \\\n",
       "0  I’d suggest you don’t go to Vrindavan as a tou...      Radhika Sachdeva   \n",
       "1  Following people are necessarily should read b...  Subramanian Velusamy   \n",
       "2  Ranakdevi Temple belonging to the tenth centur...                 Rudra   \n",
       "3  A movie consist of three things.A preferably w...            Rami Sivan   \n",
       "4  From ramayan only shabri and Raven got salvati...               Paradox   \n",
       "\n",
       "                                            userlink  \n",
       "0   https://www.quora.com/profile/Radhika-Sachdeva-2  \n",
       "1  https://www.quora.com/profile/Subramanian-Velu...  \n",
       "2            https://www.quora.com/profile/Rudra-419  \n",
       "3           https://www.quora.com/profile/Rami-Sivan  \n",
       "4          https://www.quora.com/profile/Paradox-478  "
      ]
     },
     "execution_count": 13,
     "metadata": {},
     "output_type": "execute_result"
    }
   ],
   "source": [
    "df = df.dropna(subset=['answer','question'])\n",
    "df.head()\n"
   ]
  },
  {
   "cell_type": "code",
   "execution_count": 14,
   "metadata": {},
   "outputs": [
    {
     "data": {
      "text/plain": [
       "question      0\n",
       "link          0\n",
       "images      461\n",
       "answer        0\n",
       "username      4\n",
       "userlink      4\n",
       "dtype: int64"
      ]
     },
     "execution_count": 14,
     "metadata": {},
     "output_type": "execute_result"
    }
   ],
   "source": [
    "df.isnull().sum()"
   ]
  },
  {
   "cell_type": "code",
   "execution_count": 15,
   "metadata": {},
   "outputs": [
    {
     "data": {
      "text/plain": [
       "(956, 6)"
      ]
     },
     "execution_count": 15,
     "metadata": {},
     "output_type": "execute_result"
    }
   ],
   "source": [
    "df.shape"
   ]
  },
  {
   "cell_type": "code",
   "execution_count": 16,
   "metadata": {},
   "outputs": [],
   "source": [
    "df.to_csv('quora_dataset.csv',index=False)"
   ]
  },
  {
   "cell_type": "code",
   "execution_count": 19,
   "metadata": {},
   "outputs": [],
   "source": [
    "sesssions = {}\n",
    "sesssions['uuid'] = 'xxxx'\n",
    "\n"
   ]
  },
  {
   "cell_type": "code",
   "execution_count": 21,
   "metadata": {},
   "outputs": [
    {
     "data": {
      "text/plain": [
       "{'uuid': 'xxxx'}"
      ]
     },
     "execution_count": 21,
     "metadata": {},
     "output_type": "execute_result"
    }
   ],
   "source": [
    "# sesssions['uuid']['rows'] = [1,2,3,4]\n",
    "sesssions"
   ]
  },
  {
   "cell_type": "code",
   "execution_count": 22,
   "metadata": {},
   "outputs": [
    {
     "data": {
      "text/plain": [
       "{'uuid': {'rows': [1, 2, 3, 4]}}"
      ]
     },
     "execution_count": 22,
     "metadata": {},
     "output_type": "execute_result"
    }
   ],
   "source": [
    "hi = {'uuid':{'rows': [1,2,3,4]}}\n",
    "hi"
   ]
  },
  {
   "cell_type": "code",
   "execution_count": 23,
   "metadata": {},
   "outputs": [
    {
     "data": {
      "text/plain": [
       "[1, 2, 3, 4]"
      ]
     },
     "execution_count": 23,
     "metadata": {},
     "output_type": "execute_result"
    }
   ],
   "source": [
    "hi['uuid']['rows']"
   ]
  },
  {
   "cell_type": "code",
   "execution_count": 24,
   "metadata": {},
   "outputs": [],
   "source": [
    "import uuid \n",
    "sesssions ={}\n",
    "\n",
    "rows = [1,2,3,4,5]\n",
    "uuid_value = str(uuid.uuid4())\n",
    "\n",
    "sesssions[uuid_value] = {'rows': rows}\n"
   ]
  },
  {
   "cell_type": "code",
   "execution_count": 25,
   "metadata": {},
   "outputs": [
    {
     "data": {
      "text/plain": [
       "{'337b3358-f107-4be8-8444-a9149bac343a': {'rows': [1, 2, 3, 4, 5]}}"
      ]
     },
     "execution_count": 25,
     "metadata": {},
     "output_type": "execute_result"
    }
   ],
   "source": [
    "sesssions"
   ]
  },
  {
   "cell_type": "code",
   "execution_count": null,
   "metadata": {},
   "outputs": [],
   "source": []
  }
 ],
 "metadata": {
  "kernelspec": {
   "display_name": "Python 3",
   "language": "python",
   "name": "python3"
  },
  "language_info": {
   "codemirror_mode": {
    "name": "ipython",
    "version": 3
   },
   "file_extension": ".py",
   "mimetype": "text/x-python",
   "name": "python",
   "nbconvert_exporter": "python",
   "pygments_lexer": "ipython3",
   "version": "3.10.9"
  },
  "orig_nbformat": 4
 },
 "nbformat": 4,
 "nbformat_minor": 2
}
